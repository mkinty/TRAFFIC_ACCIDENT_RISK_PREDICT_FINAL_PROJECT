{
 "cells": [
  {
   "cell_type": "markdown",
   "metadata": {
    "colab": {},
    "colab_type": "code",
    "id": "GuWoroXKJENS"
   },
   "source": [
    "### 1- Importation des librairies "
   ]
  },
  {
   "cell_type": "code",
   "execution_count": 1,
   "metadata": {},
   "outputs": [],
   "source": [
    "import pandas as pd\n",
    "import numpy as np\n"
   ]
  },
  {
   "cell_type": "markdown",
   "metadata": {},
   "source": [
    "### 2- Choix des villes et intervalles de Coordonnées Géographiques"
   ]
  },
  {
   "cell_type": "code",
   "execution_count": 2,
   "metadata": {},
   "outputs": [],
   "source": [
    "cities = {'LosAngeles': [33.700615, 34.353627, -118.683511, -118.074559], \n",
    "           'Houston': [29.497907,30.129003,-95.797178,-94.988191],\n",
    "           'Austin': [30.079327, 30.596764,-97.968881,-97.504838],\n",
    "           'Dallas': [32.559567,33.083278,-97.036586,-96.428928],\n",
    "           'Charlotte': [34.970168,35.423667,-81.060925,-80.622687],\n",
    "           'Atlanta': [33.612410,33.916999,-84.575600,-84.231911]}"
   ]
  },
  {
   "cell_type": "markdown",
   "metadata": {},
   "source": [
    "### 3- Importation du dataset geohash_to_poi"
   ]
  },
  {
   "cell_type": "code",
   "execution_count": 4,
   "metadata": {
    "colab": {},
    "colab_type": "code",
    "id": "q-YnkNlqJTl-"
   },
   "outputs": [
    {
     "data": {
      "text/html": [
       "<div>\n",
       "<style scoped>\n",
       "    .dataframe tbody tr th:only-of-type {\n",
       "        vertical-align: middle;\n",
       "    }\n",
       "\n",
       "    .dataframe tbody tr th {\n",
       "        vertical-align: top;\n",
       "    }\n",
       "\n",
       "    .dataframe thead th {\n",
       "        text-align: right;\n",
       "    }\n",
       "</style>\n",
       "<table border=\"1\" class=\"dataframe\">\n",
       "  <thead>\n",
       "    <tr style=\"text-align: right;\">\n",
       "      <th></th>\n",
       "      <th>Geohash</th>\n",
       "      <th>Amenity</th>\n",
       "      <th>Bump</th>\n",
       "      <th>Crossing</th>\n",
       "      <th>Entrance</th>\n",
       "      <th>Give_Way</th>\n",
       "      <th>Junction</th>\n",
       "      <th>Noexit</th>\n",
       "      <th>Railway</th>\n",
       "      <th>Roundabout</th>\n",
       "      <th>Station</th>\n",
       "      <th>Stop</th>\n",
       "      <th>Traffic_Calming</th>\n",
       "      <th>Traffic_Signal</th>\n",
       "      <th>Turning_Circle</th>\n",
       "      <th>Turning_Loop</th>\n",
       "    </tr>\n",
       "  </thead>\n",
       "  <tbody>\n",
       "    <tr>\n",
       "      <th>930</th>\n",
       "      <td>dnq3r</td>\n",
       "      <td>7</td>\n",
       "      <td>0</td>\n",
       "      <td>62</td>\n",
       "      <td>0</td>\n",
       "      <td>0</td>\n",
       "      <td>0</td>\n",
       "      <td>0</td>\n",
       "      <td>0</td>\n",
       "      <td>0</td>\n",
       "      <td>0</td>\n",
       "      <td>0</td>\n",
       "      <td>0</td>\n",
       "      <td>28</td>\n",
       "      <td>48</td>\n",
       "      <td>0</td>\n",
       "    </tr>\n",
       "    <tr>\n",
       "      <th>931</th>\n",
       "      <td>dnq3q</td>\n",
       "      <td>1</td>\n",
       "      <td>0</td>\n",
       "      <td>8</td>\n",
       "      <td>8</td>\n",
       "      <td>0</td>\n",
       "      <td>0</td>\n",
       "      <td>9</td>\n",
       "      <td>0</td>\n",
       "      <td>0</td>\n",
       "      <td>0</td>\n",
       "      <td>2</td>\n",
       "      <td>0</td>\n",
       "      <td>0</td>\n",
       "      <td>14</td>\n",
       "      <td>0</td>\n",
       "    </tr>\n",
       "    <tr>\n",
       "      <th>932</th>\n",
       "      <td>dnq3p</td>\n",
       "      <td>4</td>\n",
       "      <td>0</td>\n",
       "      <td>0</td>\n",
       "      <td>0</td>\n",
       "      <td>0</td>\n",
       "      <td>2</td>\n",
       "      <td>0</td>\n",
       "      <td>0</td>\n",
       "      <td>0</td>\n",
       "      <td>0</td>\n",
       "      <td>0</td>\n",
       "      <td>0</td>\n",
       "      <td>6</td>\n",
       "      <td>41</td>\n",
       "      <td>0</td>\n",
       "    </tr>\n",
       "    <tr>\n",
       "      <th>933</th>\n",
       "      <td>djgzm</td>\n",
       "      <td>17</td>\n",
       "      <td>0</td>\n",
       "      <td>20</td>\n",
       "      <td>0</td>\n",
       "      <td>0</td>\n",
       "      <td>17</td>\n",
       "      <td>0</td>\n",
       "      <td>20</td>\n",
       "      <td>0</td>\n",
       "      <td>1</td>\n",
       "      <td>5</td>\n",
       "      <td>0</td>\n",
       "      <td>30</td>\n",
       "      <td>9</td>\n",
       "      <td>0</td>\n",
       "    </tr>\n",
       "    <tr>\n",
       "      <th>934</th>\n",
       "      <td>dnq3x</td>\n",
       "      <td>14</td>\n",
       "      <td>0</td>\n",
       "      <td>64</td>\n",
       "      <td>0</td>\n",
       "      <td>0</td>\n",
       "      <td>2</td>\n",
       "      <td>1</td>\n",
       "      <td>0</td>\n",
       "      <td>0</td>\n",
       "      <td>0</td>\n",
       "      <td>0</td>\n",
       "      <td>0</td>\n",
       "      <td>55</td>\n",
       "      <td>89</td>\n",
       "      <td>0</td>\n",
       "    </tr>\n",
       "  </tbody>\n",
       "</table>\n",
       "</div>"
      ],
      "text/plain": [
       "    Geohash  Amenity  Bump  Crossing  Entrance  Give_Way  Junction  Noexit  \\\n",
       "930   dnq3r        7     0        62         0         0         0       0   \n",
       "931   dnq3q        1     0         8         8         0         0       9   \n",
       "932   dnq3p        4     0         0         0         0         2       0   \n",
       "933   djgzm       17     0        20         0         0        17       0   \n",
       "934   dnq3x       14     0        64         0         0         2       1   \n",
       "\n",
       "     Railway  Roundabout  Station  Stop  Traffic_Calming  Traffic_Signal  \\\n",
       "930        0           0        0     0                0              28   \n",
       "931        0           0        0     2                0               0   \n",
       "932        0           0        0     0                0               6   \n",
       "933       20           0        1     5                0              30   \n",
       "934        0           0        0     0                0              55   \n",
       "\n",
       "     Turning_Circle  Turning_Loop  \n",
       "930              48             0  \n",
       "931              14             0  \n",
       "932              41             0  \n",
       "933               9             0  \n",
       "934              89             0  "
      ]
     },
     "execution_count": 4,
     "metadata": {},
     "output_type": "execute_result"
    }
   ],
   "source": [
    "geohash_map = pd.read_csv(\"data/geohash_to_poi_vec.csv\")\n",
    "geohash_map.tail()"
   ]
  },
  {
   "cell_type": "markdown",
   "metadata": {},
   "source": [
    "### 4- Jointure et concatenation des datasets "
   ]
  },
  {
   "cell_type": "code",
   "execution_count": 5,
   "metadata": {},
   "outputs": [],
   "source": [
    "for c in cities :\n",
    "    df = pd.read_csv(\"data/vectors/{}_geo2vec_201861-2018831.csv\".format(c))\n",
    "    df = pd.merge(df, geohash_map)\n",
    "    df= df.loc[:,\"Geohash\":]\n",
    "    df.to_csv(\"data/TW_Event_Poi_vectors/Geohash_{}_TW_Event_Poi.csv\".format(c), index=False)"
   ]
  },
  {
   "cell_type": "code",
   "execution_count": 6,
   "metadata": {},
   "outputs": [],
   "source": [
    "for c in cities :\n",
    "    df = pd.read_csv(\"data/TW_Event_Poi_vectors/Geohash_{}_TW_Event_Poi.csv\".format(c))\n",
    "    df_0 = df[df[\"T-Accident\"] == 0].sample(13000)\n",
    "    df_1 = df[df[\"T-Accident\"] != 0]\n",
    "    df_sample = pd.concat([df_0, df_1])\n",
    "    df_sample.to_csv(\"data/Sample_TW_Event_Poi_vectors/Sample_Geohash_{}_TW_Event_Poi.csv\".format(c), index=False)"
   ]
  },
  {
   "cell_type": "markdown",
   "metadata": {},
   "source": [
    "#### 5- Importation des  Datasets"
   ]
  },
  {
   "cell_type": "code",
   "execution_count": 5,
   "metadata": {},
   "outputs": [],
   "source": [
    "Atlanta = pd.read_csv(\"data/Sample_TW_Event_Poi_vectors/Sample_Geohash_Atlanta_TW_Event_Poi.csv\")\n",
    "#Atlanta = Atlanta.loc[:,\"Geohash\":]\n",
    "Charlotte = pd.read_csv(\"data/Sample_TW_Event_Poi_vectors/Sample_Geohash_Charlotte_TW_Event_Poi.csv\")\n",
    "#Charlotte = Charlotte.loc[:,\"Geohash\":]\n",
    "Dallas = pd.read_csv(\"data/Sample_TW_Event_Poi_vectors/Sample_Geohash_Dallas_TW_Event_Poi.csv\")\n",
    "#Dallas = Dallas.loc[:,\"Geohash\":]\n",
    "Austin = pd.read_csv(\"data/Sample_TW_Event_Poi_vectors/Sample_Geohash_Austin_TW_Event_Poi.csv\")\n",
    "#Austin = Austin.loc[:,\"Geohash\":]\n",
    "Houston = pd.read_csv(\"data/Sample_TW_Event_Poi_vectors/Sample_Geohash_Houston_TW_Event_Poi.csv\")\n",
    "#Houston = Houston.loc[:,\"Geohash\":]\n",
    "Losangeles = pd.read_csv(\"data/Sample_TW_Event_Poi_vectors/Sample_Geohash_LosAngeles_TW_Event_Poi.csv\")\n",
    "#Losangeles = Losangeles.loc[:,\"Geohash\":]"
   ]
  },
  {
   "cell_type": "markdown",
   "metadata": {},
   "source": [
    "#### 6- Nombre total d'Incidents et le taux d'Accidents par Ville"
   ]
  },
  {
   "cell_type": "code",
   "execution_count": 8,
   "metadata": {},
   "outputs": [
    {
     "name": "stdout",
     "output_type": "stream",
     "text": [
      "Pour la ville de LosAngeles, nous avons enrégistré 20735 incidents dont 7735 accidents, un taux de 0.3730407523510972\n",
      "Pour la ville de Houston, nous avons enrégistré 18852 incidents dont 5852 accidents, un taux de 0.3104179927859113\n",
      "Pour la ville de Austin, nous avons enrégistré 17266 incidents dont 4266 accidents, un taux de 0.24707517664774703\n",
      "Pour la ville de Dallas, nous avons enrégistré 16364 incidents dont 3364 accidents, un taux de 0.2055732094842337\n",
      "Pour la ville de Charlotte, nous avons enrégistré 18294 incidents dont 5294 accidents, un taux de 0.2893844976495026\n",
      "Pour la ville de Atlanta, nous avons enrégistré 15632 incidents dont 2632 accidents, un taux de 0.1683725690890481\n"
     ]
    }
   ],
   "source": [
    "for c in cities :\n",
    "    if c == \"Atlanta\":\n",
    "        incident = len(Atlanta)\n",
    "        accident = len(Atlanta[Atlanta[\"T-Accident\"] != 0])\n",
    "        print(\"Pour la ville de {}, nous avons enrégistré {} incidents dont {} accidents, un taux de {}\".format(c, incident, accident, accident/incident))\n",
    "    elif c == \"Charlotte\":\n",
    "        incident = len(Charlotte)\n",
    "        accident = len(Charlotte[Charlotte[\"T-Accident\"] != 0])\n",
    "        print(\"Pour la ville de {}, nous avons enrégistré {} incidents dont {} accidents, un taux de {}\".format(c, incident, accident, accident/incident))\n",
    "    elif c == \"Dallas\":\n",
    "        incident = len(Dallas)\n",
    "        accident = len(Dallas[Dallas[\"T-Accident\"] != 0])\n",
    "        print(\"Pour la ville de {}, nous avons enrégistré {} incidents dont {} accidents, un taux de {}\".format(c, incident, accident, accident/incident))\n",
    "    elif c == \"Austin\":\n",
    "        incident = len(Austin)\n",
    "        accident = len(Austin[Austin[\"T-Accident\"] != 0])\n",
    "        print(\"Pour la ville de {}, nous avons enrégistré {} incidents dont {} accidents, un taux de {}\".format(c, incident, accident, accident/incident))\n",
    "    elif c == \"Houston\":\n",
    "        incident = len(Houston)\n",
    "        accident = len(Houston[Houston[\"T-Accident\"] != 0])\n",
    "        print(\"Pour la ville de {}, nous avons enrégistré {} incidents dont {} accidents, un taux de {}\".format(c, incident, accident, accident/incident))\n",
    "    else :\n",
    "        incident = len(Losangeles)\n",
    "        accident = len(Losangeles[Losangeles[\"T-Accident\"] != 0])\n",
    "        print(\"Pour la ville de {}, nous avons enrégistré {} incidents dont {} accidents, un taux de {}\".format(c, incident, accident, accident/incident))\n",
    "    "
   ]
  }
 ],
 "metadata": {
  "accelerator": "GPU",
  "colab": {
   "collapsed_sections": [],
   "name": "4. CleaningData.ipynb",
   "private_outputs": true,
   "provenance": []
  },
  "kernelspec": {
   "display_name": "Python 3",
   "language": "python",
   "name": "python3"
  },
  "language_info": {
   "codemirror_mode": {
    "name": "ipython",
    "version": 3
   },
   "file_extension": ".py",
   "mimetype": "text/x-python",
   "name": "python",
   "nbconvert_exporter": "python",
   "pygments_lexer": "ipython3",
   "version": "3.7.3"
  }
 },
 "nbformat": 4,
 "nbformat_minor": 1
}
