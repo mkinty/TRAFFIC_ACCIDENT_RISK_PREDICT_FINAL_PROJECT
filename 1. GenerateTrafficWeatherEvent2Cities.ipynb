{
 "cells": [
  {
   "cell_type": "markdown",
   "metadata": {},
   "source": [
    "### 1 -Importons les différentes librairies "
   ]
  },
  {
   "cell_type": "code",
   "execution_count": 2,
   "metadata": {},
   "outputs": [],
   "source": [
    "#!pip install tensorflow\n",
    "import pandas as pd\n",
    "import numpy as np\n",
    "from datetime import datetime\n",
    "import time\n",
    "import warnings\n",
    "warnings.filterwarnings(\"ignore\")"
   ]
  },
  {
   "cell_type": "code",
   "execution_count": 5,
   "metadata": {},
   "outputs": [],
   "source": [
    "#import tarfile\n",
    "#file = tarfile.open(\"data/traffic_weather_ug16_june19.tar.gz\", mode=\"r:gz\")\n",
    "#file.extractall()\n",
    "#file.close()"
   ]
  },
  {
   "cell_type": "markdown",
   "metadata": {},
   "source": [
    "### 2 - Importons le Dataset \"TrafficWeatherEvent_Aug16_June19_Publish.csv\""
   ]
  },
  {
   "cell_type": "code",
   "execution_count": 2,
   "metadata": {},
   "outputs": [],
   "source": [
    "tw_event = pd.read_csv(\"data/TrafficWeatherEvent_Aug16_June19_Publish.csv\")"
   ]
  },
  {
   "cell_type": "code",
   "execution_count": 3,
   "metadata": {},
   "outputs": [
    {
     "data": {
      "text/html": [
       "<div>\n",
       "<style scoped>\n",
       "    .dataframe tbody tr th:only-of-type {\n",
       "        vertical-align: middle;\n",
       "    }\n",
       "\n",
       "    .dataframe tbody tr th {\n",
       "        vertical-align: top;\n",
       "    }\n",
       "\n",
       "    .dataframe thead th {\n",
       "        text-align: right;\n",
       "    }\n",
       "</style>\n",
       "<table border=\"1\" class=\"dataframe\">\n",
       "  <thead>\n",
       "    <tr style=\"text-align: right;\">\n",
       "      <th></th>\n",
       "      <th>EventId</th>\n",
       "      <th>Source</th>\n",
       "      <th>Type</th>\n",
       "      <th>Severity</th>\n",
       "      <th>TMC</th>\n",
       "      <th>Description</th>\n",
       "      <th>StartTime(UTC)</th>\n",
       "      <th>EndTime(UTC)</th>\n",
       "      <th>TimeZone</th>\n",
       "      <th>LocationLat</th>\n",
       "      <th>LocationLng</th>\n",
       "      <th>Distance(mi)</th>\n",
       "      <th>AirportCode</th>\n",
       "      <th>Number</th>\n",
       "      <th>Street</th>\n",
       "      <th>Side</th>\n",
       "      <th>City</th>\n",
       "      <th>County</th>\n",
       "      <th>State</th>\n",
       "      <th>ZipCode</th>\n",
       "    </tr>\n",
       "  </thead>\n",
       "  <tbody>\n",
       "    <tr>\n",
       "      <th>25033252</th>\n",
       "      <td>T-21866308</td>\n",
       "      <td>T</td>\n",
       "      <td>Flow-Incident</td>\n",
       "      <td>NaN</td>\n",
       "      <td>214.0</td>\n",
       "      <td>Delays of six minutes on Santa Monica Fwy East...</td>\n",
       "      <td>2017-08-31 01:31:00</td>\n",
       "      <td>2017-08-31 04:14:04</td>\n",
       "      <td>US/Pacific</td>\n",
       "      <td>34.034252</td>\n",
       "      <td>-118.347931</td>\n",
       "      <td>5.83</td>\n",
       "      <td>KSMO</td>\n",
       "      <td>NaN</td>\n",
       "      <td>I-10 E</td>\n",
       "      <td>R</td>\n",
       "      <td>Los Angeles</td>\n",
       "      <td>Los Angeles</td>\n",
       "      <td>CA</td>\n",
       "      <td>90016.0</td>\n",
       "    </tr>\n",
       "    <tr>\n",
       "      <th>25033253</th>\n",
       "      <td>T-21866309</td>\n",
       "      <td>T</td>\n",
       "      <td>Congestion</td>\n",
       "      <td>Fast</td>\n",
       "      <td>74.0</td>\n",
       "      <td>Delays of two minutes on Golden State Fwy Nort...</td>\n",
       "      <td>2017-08-31 03:38:00</td>\n",
       "      <td>2017-08-31 04:21:08</td>\n",
       "      <td>US/Pacific</td>\n",
       "      <td>34.133957</td>\n",
       "      <td>-118.275269</td>\n",
       "      <td>3.60</td>\n",
       "      <td>KCQT</td>\n",
       "      <td>NaN</td>\n",
       "      <td>I-5 N</td>\n",
       "      <td>R</td>\n",
       "      <td>Los Angeles</td>\n",
       "      <td>Los Angeles</td>\n",
       "      <td>CA</td>\n",
       "      <td>90027.0</td>\n",
       "    </tr>\n",
       "    <tr>\n",
       "      <th>25033254</th>\n",
       "      <td>T-21866310</td>\n",
       "      <td>T</td>\n",
       "      <td>Flow-Incident</td>\n",
       "      <td>NaN</td>\n",
       "      <td>214.0</td>\n",
       "      <td>Delays of two minutes on Harbor Fwy Northbound...</td>\n",
       "      <td>2017-08-31 03:42:00</td>\n",
       "      <td>2017-08-31 04:23:05</td>\n",
       "      <td>US/Pacific</td>\n",
       "      <td>34.051392</td>\n",
       "      <td>-118.260674</td>\n",
       "      <td>2.67</td>\n",
       "      <td>KCQT</td>\n",
       "      <td>NaN</td>\n",
       "      <td>CA-110 S</td>\n",
       "      <td>R</td>\n",
       "      <td>Los Angeles</td>\n",
       "      <td>Los Angeles</td>\n",
       "      <td>CA</td>\n",
       "      <td>90017.0</td>\n",
       "    </tr>\n",
       "    <tr>\n",
       "      <th>25033255</th>\n",
       "      <td>T-21866311</td>\n",
       "      <td>T</td>\n",
       "      <td>Congestion</td>\n",
       "      <td>Slow</td>\n",
       "      <td>70.0</td>\n",
       "      <td>Severe delays of 25 minutes on Oceanside Blvd ...</td>\n",
       "      <td>2017-08-31 03:49:00</td>\n",
       "      <td>2017-08-31 04:30:12</td>\n",
       "      <td>US/Pacific</td>\n",
       "      <td>33.201733</td>\n",
       "      <td>-117.341331</td>\n",
       "      <td>0.78</td>\n",
       "      <td>KOKB</td>\n",
       "      <td>2689.0</td>\n",
       "      <td>Oceanside Blvd</td>\n",
       "      <td>R</td>\n",
       "      <td>Oceanside</td>\n",
       "      <td>San Diego</td>\n",
       "      <td>CA</td>\n",
       "      <td>92054.0</td>\n",
       "    </tr>\n",
       "    <tr>\n",
       "      <th>25033256</th>\n",
       "      <td>T-21866312</td>\n",
       "      <td>T</td>\n",
       "      <td>Congestion</td>\n",
       "      <td>Slow</td>\n",
       "      <td>71.0</td>\n",
       "      <td>Delays increasing and delays of four minutes o...</td>\n",
       "      <td>2017-08-31 03:27:00</td>\n",
       "      <td>2017-08-31 04:30:12</td>\n",
       "      <td>US/Pacific</td>\n",
       "      <td>34.110271</td>\n",
       "      <td>-118.336029</td>\n",
       "      <td>1.53</td>\n",
       "      <td>KBUR</td>\n",
       "      <td>2284.0</td>\n",
       "      <td>N Highland Ave</td>\n",
       "      <td>R</td>\n",
       "      <td>Los Angeles</td>\n",
       "      <td>Los Angeles</td>\n",
       "      <td>CA</td>\n",
       "      <td>90068.0</td>\n",
       "    </tr>\n",
       "  </tbody>\n",
       "</table>\n",
       "</div>"
      ],
      "text/plain": [
       "             EventId Source           Type Severity    TMC  \\\n",
       "25033252  T-21866308      T  Flow-Incident      NaN  214.0   \n",
       "25033253  T-21866309      T     Congestion     Fast   74.0   \n",
       "25033254  T-21866310      T  Flow-Incident      NaN  214.0   \n",
       "25033255  T-21866311      T     Congestion     Slow   70.0   \n",
       "25033256  T-21866312      T     Congestion     Slow   71.0   \n",
       "\n",
       "                                                Description  \\\n",
       "25033252  Delays of six minutes on Santa Monica Fwy East...   \n",
       "25033253  Delays of two minutes on Golden State Fwy Nort...   \n",
       "25033254  Delays of two minutes on Harbor Fwy Northbound...   \n",
       "25033255  Severe delays of 25 minutes on Oceanside Blvd ...   \n",
       "25033256  Delays increasing and delays of four minutes o...   \n",
       "\n",
       "               StartTime(UTC)         EndTime(UTC)    TimeZone  LocationLat  \\\n",
       "25033252  2017-08-31 01:31:00  2017-08-31 04:14:04  US/Pacific    34.034252   \n",
       "25033253  2017-08-31 03:38:00  2017-08-31 04:21:08  US/Pacific    34.133957   \n",
       "25033254  2017-08-31 03:42:00  2017-08-31 04:23:05  US/Pacific    34.051392   \n",
       "25033255  2017-08-31 03:49:00  2017-08-31 04:30:12  US/Pacific    33.201733   \n",
       "25033256  2017-08-31 03:27:00  2017-08-31 04:30:12  US/Pacific    34.110271   \n",
       "\n",
       "          LocationLng  Distance(mi) AirportCode  Number          Street Side  \\\n",
       "25033252  -118.347931          5.83        KSMO     NaN          I-10 E    R   \n",
       "25033253  -118.275269          3.60        KCQT     NaN           I-5 N    R   \n",
       "25033254  -118.260674          2.67        KCQT     NaN        CA-110 S    R   \n",
       "25033255  -117.341331          0.78        KOKB  2689.0  Oceanside Blvd    R   \n",
       "25033256  -118.336029          1.53        KBUR  2284.0  N Highland Ave    R   \n",
       "\n",
       "                 City       County State  ZipCode  \n",
       "25033252  Los Angeles  Los Angeles    CA  90016.0  \n",
       "25033253  Los Angeles  Los Angeles    CA  90027.0  \n",
       "25033254  Los Angeles  Los Angeles    CA  90017.0  \n",
       "25033255    Oceanside    San Diego    CA  92054.0  \n",
       "25033256  Los Angeles  Los Angeles    CA  90068.0  "
      ]
     },
     "execution_count": 3,
     "metadata": {},
     "output_type": "execute_result"
    }
   ],
   "source": [
    "tw_event.tail()"
   ]
  },
  {
   "cell_type": "markdown",
   "metadata": {},
   "source": [
    "### Récupérons les coordonnées géographiques de chaque ville dans un dictionnaire afin d'afficher la carte"
   ]
  },
  {
   "cell_type": "code",
   "execution_count": 8,
   "metadata": {},
   "outputs": [],
   "source": [
    "#geo_dic = {}\n",
    "#for i in range(len(tw_event)):\n",
    "#    cities = tw_event.City.iloc[i]\n",
    "#    lat = tw_event.LocationLat.iloc[i]\n",
    "#    lng = tw_event.LocationLng.iloc[i]\n",
    "#    geo_dic[\"{}\".format(cities)] = [lat, lng]"
   ]
  },
  {
   "cell_type": "markdown",
   "metadata": {},
   "source": [
    "#### Choix max et min des latitudes et longitudes de chaque ville"
   ]
  },
  {
   "cell_type": "code",
   "execution_count": 9,
   "metadata": {},
   "outputs": [],
   "source": [
    "#LosAngeles = df_cities[df_cities.City == \"Los Angeles\"]\n",
    "#latL = LosAngeles.LocationLat\n",
    "#lngL = LosAngeles.LocationLng\n",
    "#np.min(latL), np.max(latL), np.min(lngL), np.max(lngL)"
   ]
  },
  {
   "cell_type": "markdown",
   "metadata": {},
   "source": [
    "### 3 - 1 - Choix des villes sur le dataset"
   ]
  },
  {
   "cell_type": "code",
   "execution_count": 4,
   "metadata": {},
   "outputs": [],
   "source": [
    "cities = {'LosAngeles': [33.700615, 34.353627, -118.683511, -118.074559], \n",
    "           'Houston': [29.497907,30.129003,-95.797178,-94.988191],\n",
    "           'Austin': [30.079327, 30.596764,-97.968881,-97.504838],\n",
    "           'Dallas': [32.559567,33.083278,-97.036586,-96.428928],\n",
    "           'Charlotte': [34.970168,35.423667,-81.060925,-80.622687],\n",
    "           'Atlanta': [33.612410,33.916999,-84.575600,-84.231911]}\n",
    "\n",
    "time_zones = {'Houston':'US/Central', 'Charlotte':'US/Eastern', 'Dallas':'US/Central',\n",
    "              'Atlanta':'US/Eastern', 'Austin':'US/Central', 'LosAngeles':'US/Pacific'}\n",
    "\n",
    "# time interval to sample data for \n",
    "start = datetime(2018, 6, 1)\n",
    "finish   = datetime(2018, 9, 2)\n",
    "\n",
    "begin = datetime.strptime('2018-06-01 00:00:00', '%Y-%m-%d %H:%M:%S')\n",
    "end   = datetime.strptime('2018-08-31 23:59:59', '%Y-%m-%d %H:%M:%S')"
   ]
  },
  {
   "cell_type": "markdown",
   "metadata": {},
   "source": [
    "### 3 - 2 - Le Dataset du Trafic Event pour toutes les Villes Choisies"
   ]
  },
  {
   "cell_type": "code",
   "execution_count": 5,
   "metadata": {},
   "outputs": [],
   "source": [
    "tw_event['StartTime(UTC)'] = tw_event['StartTime(UTC)'].astype('datetime64[ns]', errors = 'ignore')\n",
    "tw_event['EndTime(UTC)'] = tw_event['EndTime(UTC)'].astype('datetime64[ns]', errors = 'ignore')"
   ]
  },
  {
   "cell_type": "code",
   "execution_count": 18,
   "metadata": {},
   "outputs": [
    {
     "name": "stdout",
     "output_type": "stream",
     "text": [
      "Pour LosAngeles nous avons 90961 incidents, dont 8303 accidents! un taux de 0.09\n",
      "Pour Houston nous avons 45463 incidents, dont 5988 accidents! un taux de 0.13\n",
      "Pour Austin nous avons 20438 incidents, dont 4383 accidents! un taux de 0.21\n",
      "Pour Dallas nous avons 30543 incidents, dont 3457 accidents! un taux de 0.11\n",
      "Pour Charlotte nous avons 18592 incidents, dont 5604 accidents! un taux de 0.30\n",
      "Pour Atlanta nous avons 23943 incidents, dont 2738 accidents! un taux de 0.11\n"
     ]
    }
   ],
   "source": [
    "for c in cities:\n",
    "    crds = cities[c]\n",
    "    subset_all = tw_event[(tw_event['Source'] == 'T') & (tw_event['StartTime(UTC)'] >= start) & (tw_event['StartTime(UTC)'] < end) & \n",
    "                    (tw_event['LocationLat']>crds[0]) & (tw_event['LocationLat']<crds[1]) & (tw_event['LocationLng']>crds[2]) & \n",
    "                    (tw_event['LocationLng']<crds[3])& (tw_event[\"AirportCode\"] != \"KMWS\")]\n",
    "    \n",
    "    subset_accidents = tw_event[(tw_event['Type']=='Accident') &  (tw_event['Source'] == 'T') &(tw_event['StartTime(UTC)'] >= start) & (tw_event['StartTime(UTC)'] < end) \n",
    "                          & (tw_event['LocationLat']>crds[0]) & (tw_event['LocationLat']<crds[1]) & (tw_event['LocationLng']>crds[2]) \n",
    "                          & (tw_event['LocationLng']<crds[3])]\n",
    "    \n",
    "    print(\"Pour {} nous avons {} incidents, dont {} accidents! un taux de {:.2f}\".format(c, len(subset_all), len(subset_accidents), \n",
    "                                                                               len(subset_accidents)*1.0/len(subset_all)))\n",
    "    \n",
    "    subset_all.to_csv('data/temporary/TW_EVENT_{}_20180601_20180609.csv'.format(c), index=False)"
   ]
  },
  {
   "cell_type": "markdown",
   "metadata": {},
   "source": [
    "### !!! Fin de generation de TW_Event_Cities, pour la suite, voir le fichier GenerateFeaturesVectors.ipynb  !!!"
   ]
  }
 ],
 "metadata": {
  "kernelspec": {
   "display_name": "Python 3",
   "language": "python",
   "name": "python3"
  },
  "language_info": {
   "codemirror_mode": {
    "name": "ipython",
    "version": 3
   },
   "file_extension": ".py",
   "mimetype": "text/x-python",
   "name": "python",
   "nbconvert_exporter": "python",
   "pygments_lexer": "ipython3",
   "version": "3.7.3"
  }
 },
 "nbformat": 4,
 "nbformat_minor": 2
}
